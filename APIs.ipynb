{
 "cells": [
  {
   "cell_type": "markdown",
   "metadata": {},
   "source": [
    "# APIs\n"
   ]
  },
  {
   "cell_type": "markdown",
   "metadata": {},
   "source": [
    "## Tasks Today:\n",
    "1) <b>Requests and the pokemon API </b> <br>\n",
    " "
   ]
  },
  {
   "cell_type": "markdown",
   "metadata": {},
   "source": [
    "# working with APis"
   ]
  },
  {
   "cell_type": "markdown",
   "metadata": {},
   "source": [
    "<p> What exactly is an API? <br> <br>\n",
    "API is the acronym for Application Programming Interface, which is a software intermediary that allows two applications to talk to each other. Each time you use an app like Facebook, send an instant message, or check the weather on your phone, you're using an API. </p>"
   ]
  },
  {
   "cell_type": "markdown",
   "metadata": {},
   "source": [
    "### The Poke API  allows you to retreive a pokemon's information from PokeAPI https://pokeapi.co/\n",
    "\n"
   ]
  },
  {
   "cell_type": "code",
   "execution_count": 1,
   "metadata": {},
   "outputs": [
    {
     "name": "stdout",
     "output_type": "stream",
     "text": [
      "SUCCESS\n"
     ]
    }
   ],
   "source": [
    "# making an API call\n",
    "import requests\n",
    "\n",
    "response = requests.get('https://pokeapi.co/api/v2/pokemon/snorlax')\n",
    "\n",
    "if response.status_code == 200:\n",
    "    print('SUCCESS')\n",
    "    data = response.json()\n",
    "#     print(data)\n",
    "else:\n",
    "    print(f'ERROR, STATUS CODE {response.status_code}')"
   ]
  },
  {
   "cell_type": "code",
   "execution_count": 6,
   "metadata": {},
   "outputs": [
    {
     "name": "stdout",
     "output_type": "stream",
     "text": [
      "snorlax\n"
     ]
    }
   ],
   "source": [
    "print(data['name'])"
   ]
  },
  {
   "cell_type": "markdown",
   "metadata": {},
   "source": [
    "### Display a Pokemon's name, weight, abilities, and types"
   ]
  },
  {
   "cell_type": "code",
   "execution_count": 8,
   "metadata": {},
   "outputs": [
    {
     "name": "stdout",
     "output_type": "stream",
     "text": [
      "snorlax\n"
     ]
    }
   ],
   "source": [
    "# get the name\n",
    "\n",
    "name = data['name']\n",
    "print(name)"
   ]
  },
  {
   "cell_type": "code",
   "execution_count": 19,
   "metadata": {},
   "outputs": [
    {
     "name": "stdout",
     "output_type": "stream",
     "text": [
      "[{'slot': 1, 'type': {'name': 'normal', 'url': 'https://pokeapi.co/api/v2/type/1/'}}]\n"
     ]
    }
   ],
   "source": [
    "# get types\n",
    "\n",
    "types = data['types']\n",
    "print(types)"
   ]
  },
  {
   "cell_type": "code",
   "execution_count": 12,
   "metadata": {},
   "outputs": [
    {
     "name": "stdout",
     "output_type": "stream",
     "text": [
      "4600\n"
     ]
    }
   ],
   "source": [
    "# get weight\n",
    "\n",
    "weight = data['weight']\n",
    "print(weight)"
   ]
  },
  {
   "cell_type": "code",
   "execution_count": 13,
   "metadata": {},
   "outputs": [
    {
     "name": "stdout",
     "output_type": "stream",
     "text": [
      "[{'ability': {'name': 'immunity', 'url': 'https://pokeapi.co/api/v2/ability/17/'}, 'is_hidden': False, 'slot': 1}, {'ability': {'name': 'thick-fat', 'url': 'https://pokeapi.co/api/v2/ability/47/'}, 'is_hidden': False, 'slot': 2}, {'ability': {'name': 'gluttony', 'url': 'https://pokeapi.co/api/v2/ability/82/'}, 'is_hidden': True, 'slot': 3}]\n"
     ]
    }
   ],
   "source": [
    "# get abilities\n",
    "\n",
    "abilities = data['abilities']\n",
    "print(abilities)"
   ]
  },
  {
   "cell_type": "code",
   "execution_count": 15,
   "metadata": {},
   "outputs": [
    {
     "name": "stdout",
     "output_type": "stream",
     "text": [
      "['immunity', 'thick-fat', 'gluttony']\n"
     ]
    }
   ],
   "source": [
    "ability_names = [ability['ability']['name'] for ability in data['abilities']]\n",
    "print(ability_names)"
   ]
  },
  {
   "cell_type": "code",
   "execution_count": 20,
   "metadata": {},
   "outputs": [
    {
     "data": {
      "text/plain": [
       "{'abilites': ['immunity', 'thick-fat', 'gluttony'],\n",
       " 'name': 'snorlax',\n",
       " 'types': [{'slot': 1,\n",
       "   'type': {'name': 'normal', 'url': 'https://pokeapi.co/api/v2/type/1/'}}],\n",
       " 'weight': 4600}"
      ]
     },
     "execution_count": 20,
     "metadata": {},
     "output_type": "execute_result"
    }
   ],
   "source": [
    "# Create a structure for a single pokemon\n",
    "pokemon = {\n",
    "    'abilites': ability_names,\n",
    "    'name': data['name'],\n",
    "    'types': data['types'],\n",
    "    'weight': data['weight']\n",
    "}\n",
    "pokemon"
   ]
  },
  {
   "cell_type": "code",
   "execution_count": null,
   "metadata": {},
   "outputs": [],
   "source": []
  },
  {
   "cell_type": "markdown",
   "metadata": {},
   "source": [
    "#### Create a function to Pull in your own Pokemon's data "
   ]
  },
  {
   "cell_type": "code",
   "execution_count": 12,
   "metadata": {},
   "outputs": [
    {
     "ename": "KeyboardInterrupt",
     "evalue": "Interrupted by user",
     "output_type": "error",
     "traceback": [
      "\u001b[1;31m---------------------------------------------------------------------------\u001b[0m",
      "\u001b[1;31mKeyboardInterrupt\u001b[0m                         Traceback (most recent call last)",
      "Input \u001b[1;32mIn [12]\u001b[0m, in \u001b[0;36m<cell line: 53>\u001b[1;34m()\u001b[0m\n\u001b[0;32m     43\u001b[0m     poke_dict \u001b[38;5;241m=\u001b[39m {\n\u001b[0;32m     44\u001b[0m         \u001b[38;5;124m'\u001b[39m\u001b[38;5;124mabilites\u001b[39m\u001b[38;5;124m'\u001b[39m: ability_names,\n\u001b[0;32m     45\u001b[0m         \u001b[38;5;124m'\u001b[39m\u001b[38;5;124mname\u001b[39m\u001b[38;5;124m'\u001b[39m: data[\u001b[38;5;124m'\u001b[39m\u001b[38;5;124mname\u001b[39m\u001b[38;5;124m'\u001b[39m],\n\u001b[1;32m   (...)\u001b[0m\n\u001b[0;32m     49\u001b[0m         \u001b[38;5;124m'\u001b[39m\u001b[38;5;124msprite\u001b[39m\u001b[38;5;124m'\u001b[39m: data[\u001b[38;5;124m'\u001b[39m\u001b[38;5;124msprites\u001b[39m\u001b[38;5;124m'\u001b[39m][\u001b[38;5;124m'\u001b[39m\u001b[38;5;124mfront_default\u001b[39m\u001b[38;5;124m'\u001b[39m]\n\u001b[0;32m     50\u001b[0m     }\n\u001b[0;32m     51\u001b[0m     \u001b[38;5;28;01mreturn\u001b[39;00m poke_dict\n\u001b[1;32m---> 53\u001b[0m \u001b[38;5;28mprint\u001b[39m(\u001b[43mpoke_api_call\u001b[49m\u001b[43m(\u001b[49m\u001b[43m)\u001b[49m)\n",
      "Input \u001b[1;32mIn [12]\u001b[0m, in \u001b[0;36mpoke_api_call\u001b[1;34m(pokemon)\u001b[0m\n\u001b[0;32m     28\u001b[0m \u001b[38;5;28;01mdef\u001b[39;00m \u001b[38;5;21mpoke_api_call\u001b[39m(pokemon\u001b[38;5;241m=\u001b[39m\u001b[38;5;28;01mNone\u001b[39;00m):\n\u001b[0;32m     29\u001b[0m     \u001b[38;5;28;01mif\u001b[39;00m \u001b[38;5;129;01mnot\u001b[39;00m pokemon:\n\u001b[1;32m---> 30\u001b[0m         pokemon \u001b[38;5;241m=\u001b[39m \u001b[38;5;28;43minput\u001b[39;49m\u001b[43m(\u001b[49m\u001b[38;5;124;43m'\u001b[39;49m\u001b[38;5;130;43;01m\\n\u001b[39;49;00m\u001b[38;5;124;43mPlease provide the name of the Pokemon you would like to look up:\u001b[39;49m\u001b[38;5;130;43;01m\\n\u001b[39;49;00m\u001b[38;5;124;43m'\u001b[39;49m\u001b[43m)\u001b[49m\u001b[38;5;241m.\u001b[39mlower()\n\u001b[0;32m     32\u001b[0m     response \u001b[38;5;241m=\u001b[39m requests\u001b[38;5;241m.\u001b[39mget(\u001b[38;5;124mf\u001b[39m\u001b[38;5;124m'\u001b[39m\u001b[38;5;124mhttps://pokeapi.co/api/v2/pokemon/\u001b[39m\u001b[38;5;132;01m{\u001b[39;00mpokemon\u001b[38;5;132;01m}\u001b[39;00m\u001b[38;5;124m'\u001b[39m)\n\u001b[0;32m     34\u001b[0m     \u001b[38;5;28;01mif\u001b[39;00m response\u001b[38;5;241m.\u001b[39mstatus_code \u001b[38;5;241m==\u001b[39m \u001b[38;5;241m200\u001b[39m:\n\u001b[0;32m     35\u001b[0m \u001b[38;5;66;03m#         print('SUCCESS')\u001b[39;00m\n",
      "File \u001b[1;32mC:\\ProgramData\\Anaconda3\\lib\\site-packages\\ipykernel\\kernelbase.py:1075\u001b[0m, in \u001b[0;36mKernel.raw_input\u001b[1;34m(self, prompt)\u001b[0m\n\u001b[0;32m   1071\u001b[0m \u001b[38;5;28;01mif\u001b[39;00m \u001b[38;5;129;01mnot\u001b[39;00m \u001b[38;5;28mself\u001b[39m\u001b[38;5;241m.\u001b[39m_allow_stdin:\n\u001b[0;32m   1072\u001b[0m     \u001b[38;5;28;01mraise\u001b[39;00m StdinNotImplementedError(\n\u001b[0;32m   1073\u001b[0m         \u001b[38;5;124m\"\u001b[39m\u001b[38;5;124mraw_input was called, but this frontend does not support input requests.\u001b[39m\u001b[38;5;124m\"\u001b[39m\n\u001b[0;32m   1074\u001b[0m     )\n\u001b[1;32m-> 1075\u001b[0m \u001b[38;5;28;01mreturn\u001b[39;00m \u001b[38;5;28;43mself\u001b[39;49m\u001b[38;5;241;43m.\u001b[39;49m\u001b[43m_input_request\u001b[49m\u001b[43m(\u001b[49m\n\u001b[0;32m   1076\u001b[0m \u001b[43m    \u001b[49m\u001b[38;5;28;43mstr\u001b[39;49m\u001b[43m(\u001b[49m\u001b[43mprompt\u001b[49m\u001b[43m)\u001b[49m\u001b[43m,\u001b[49m\n\u001b[0;32m   1077\u001b[0m \u001b[43m    \u001b[49m\u001b[38;5;28;43mself\u001b[39;49m\u001b[38;5;241;43m.\u001b[39;49m\u001b[43m_parent_ident\u001b[49m\u001b[43m[\u001b[49m\u001b[38;5;124;43m\"\u001b[39;49m\u001b[38;5;124;43mshell\u001b[39;49m\u001b[38;5;124;43m\"\u001b[39;49m\u001b[43m]\u001b[49m\u001b[43m,\u001b[49m\n\u001b[0;32m   1078\u001b[0m \u001b[43m    \u001b[49m\u001b[38;5;28;43mself\u001b[39;49m\u001b[38;5;241;43m.\u001b[39;49m\u001b[43mget_parent\u001b[49m\u001b[43m(\u001b[49m\u001b[38;5;124;43m\"\u001b[39;49m\u001b[38;5;124;43mshell\u001b[39;49m\u001b[38;5;124;43m\"\u001b[39;49m\u001b[43m)\u001b[49m\u001b[43m,\u001b[49m\n\u001b[0;32m   1079\u001b[0m \u001b[43m    \u001b[49m\u001b[43mpassword\u001b[49m\u001b[38;5;241;43m=\u001b[39;49m\u001b[38;5;28;43;01mFalse\u001b[39;49;00m\u001b[43m,\u001b[49m\n\u001b[0;32m   1080\u001b[0m \u001b[43m\u001b[49m\u001b[43m)\u001b[49m\n",
      "File \u001b[1;32mC:\\ProgramData\\Anaconda3\\lib\\site-packages\\ipykernel\\kernelbase.py:1120\u001b[0m, in \u001b[0;36mKernel._input_request\u001b[1;34m(self, prompt, ident, parent, password)\u001b[0m\n\u001b[0;32m   1117\u001b[0m             \u001b[38;5;28;01mbreak\u001b[39;00m\n\u001b[0;32m   1118\u001b[0m \u001b[38;5;28;01mexcept\u001b[39;00m \u001b[38;5;167;01mKeyboardInterrupt\u001b[39;00m:\n\u001b[0;32m   1119\u001b[0m     \u001b[38;5;66;03m# re-raise KeyboardInterrupt, to truncate traceback\u001b[39;00m\n\u001b[1;32m-> 1120\u001b[0m     \u001b[38;5;28;01mraise\u001b[39;00m \u001b[38;5;167;01mKeyboardInterrupt\u001b[39;00m(\u001b[38;5;124m\"\u001b[39m\u001b[38;5;124mInterrupted by user\u001b[39m\u001b[38;5;124m\"\u001b[39m) \u001b[38;5;28;01mfrom\u001b[39;00m \u001b[38;5;28mNone\u001b[39m\n\u001b[0;32m   1121\u001b[0m \u001b[38;5;28;01mexcept\u001b[39;00m \u001b[38;5;167;01mException\u001b[39;00m:\n\u001b[0;32m   1122\u001b[0m     \u001b[38;5;28mself\u001b[39m\u001b[38;5;241m.\u001b[39mlog\u001b[38;5;241m.\u001b[39mwarning(\u001b[38;5;124m\"\u001b[39m\u001b[38;5;124mInvalid Message:\u001b[39m\u001b[38;5;124m\"\u001b[39m, exc_info\u001b[38;5;241m=\u001b[39m\u001b[38;5;28;01mTrue\u001b[39;00m)\n",
      "\u001b[1;31mKeyboardInterrupt\u001b[0m: Interrupted by user"
     ]
    }
   ],
   "source": [
    "# Create a fn that does the following:\n",
    "# Asks a user to input a pokemon name:\n",
    "# Requests the poke api for that pokemon's information\n",
    "# Creates the data structure from above with that pokemon's information\n",
    "# In addition to above keys, include height and the \"front_default\" sprite\n",
    "# Returns the dictionary\n",
    "\n",
    "import requests\n",
    "\n",
    "# def poke_api_call():\n",
    "#     user_poke = input('\\nPlease provide the name of the Pokemon you would like to look up:\\n').lower()\n",
    "#     response = requests.get(f'https://pokeapi.co/api/v2/pokemon/{user_poke}')\n",
    "#     data = response.json()\n",
    "#     pokemon = {\n",
    "#         'abilites': [ability['ability']['name'] for ability in data['abilities']],\n",
    "#         'name': data['name'],\n",
    "#         'types': data['types'],\n",
    "#         'weight': data['weight'],\n",
    "#         'height': data['height'],\n",
    "#         'front_default': data['sprites']['front_default']\n",
    "#     }\n",
    "#     return pokemon\n",
    "\n",
    "# print(poke_api_call())\n",
    "\n",
    "\n",
    "# class example\n",
    "def poke_api_call(pokemon=None):\n",
    "    if not pokemon:\n",
    "        pokemon = input('\\nPlease provide the name of the Pokemon you would like to look up:\\n').lower()\n",
    "        \n",
    "    response = requests.get(f'https://pokeapi.co/api/v2/pokemon/{pokemon}')\n",
    "    \n",
    "    if response.status_code == 200:\n",
    "#         print('SUCCESS')\n",
    "        data = response.json()\n",
    "    else:\n",
    "        print(f'ERROR, STATUS CODE {response.status_code}')\n",
    "        return 'Error'\n",
    "    \n",
    "    ability_names = [ability['ability']['name'] for ability in data['abilities']]\n",
    "    \n",
    "    poke_dict = {\n",
    "        'abilites': ability_names,\n",
    "        'name': data['name'],\n",
    "        'types': data['types'],\n",
    "        'weight': data['weight'],\n",
    "        'height': data['height'],\n",
    "        'sprite': data['sprites']['front_default']\n",
    "    }\n",
    "    return poke_dict\n",
    "\n",
    "print(poke_api_call())"
   ]
  },
  {
   "cell_type": "code",
   "execution_count": 5,
   "metadata": {},
   "outputs": [
    {
     "name": "stdout",
     "output_type": "stream",
     "text": [
      "SUCCESS\n",
      "{'abilites': ['static', 'lightning-rod'], 'name': 'pikachu', 'types': [{'slot': 1, 'type': {'name': 'electric', 'url': 'https://pokeapi.co/api/v2/type/13/'}}], 'weight': 60, 'height': 4, 'sprite': 'https://raw.githubusercontent.com/PokeAPI/sprites/master/sprites/pokemon/25.png'}\n"
     ]
    }
   ],
   "source": [
    "print(poke_api_call('pikachu'))"
   ]
  },
  {
   "cell_type": "code",
   "execution_count": 13,
   "metadata": {},
   "outputs": [
    {
     "name": "stdout",
     "output_type": "stream",
     "text": [
      "\n",
      "Please provide the name of the Pokemon you would like to look up:\n",
      "snorlax\n",
      "{'abilites': ['immunity', 'thick-fat', 'gluttony'], 'name': 'snorlax', 'types': [{'slot': 1, 'type': {'name': 'normal', 'url': 'https://pokeapi.co/api/v2/type/1/'}}], 'weight': 4600, 'height': 21, 'sprite': 'https://raw.githubusercontent.com/PokeAPI/sprites/master/sprites/pokemon/143.png'}\n"
     ]
    }
   ],
   "source": [
    "def poke_api_call(pokemon=None):\n",
    "    if not pokemon:\n",
    "        pokemon = input('\\nPlease provide the name of the Pokemon you would like to look up:\\n').lower()\n",
    "        \n",
    "    response = requests.get(f'https://pokeapi.co/api/v2/pokemon/{pokemon}')\n",
    "    \n",
    "    if response.status_code == 200:\n",
    "#         print('SUCCESS')\n",
    "        data = response.json()\n",
    "    else:\n",
    "        print(f'ERROR, STATUS CODE {response.status_code}')\n",
    "        return 'Error'\n",
    "    \n",
    "    ability_names = [ability['ability']['name'] for ability in data['abilities']]\n",
    "    \n",
    "    poke_dict = {\n",
    "        'name': data['name'],\n",
    "        'types': data['types'],\n",
    "        'abilites': ability_names,\n",
    "        'weight': data['weight'],\n",
    "        'height': data['height'],\n",
    "        'sprite': data['sprites']['front_default']\n",
    "    }\n",
    "    return poke_dict\n",
    "\n",
    "print(poke_api_call())"
   ]
  },
  {
   "cell_type": "markdown",
   "metadata": {},
   "source": [
    "Choose your pokemon"
   ]
  },
  {
   "cell_type": "code",
   "execution_count": 32,
   "metadata": {},
   "outputs": [
    {
     "name": "stdout",
     "output_type": "stream",
     "text": [
      "{'electabuzz': {'abilites': ['static', 'vital-spirit'], 'name': 'electabuzz', 'types': [{'slot': 1, 'type': {'name': 'electric', 'url': 'https://pokeapi.co/api/v2/type/13/'}}], 'weight': 300, 'height': 11, 'sprite': 'https://raw.githubusercontent.com/PokeAPI/sprites/master/sprites/pokemon/125.png'}, 'haunter': {'abilites': ['levitate'], 'name': 'haunter', 'types': [{'slot': 1, 'type': {'name': 'ghost', 'url': 'https://pokeapi.co/api/v2/type/8/'}}, {'slot': 2, 'type': {'name': 'poison', 'url': 'https://pokeapi.co/api/v2/type/4/'}}], 'weight': 1, 'height': 16, 'sprite': 'https://raw.githubusercontent.com/PokeAPI/sprites/master/sprites/pokemon/93.png'}, 'tyranitar': {'abilites': ['sand-stream', 'unnerve'], 'name': 'tyranitar', 'types': [{'slot': 1, 'type': {'name': 'rock', 'url': 'https://pokeapi.co/api/v2/type/6/'}}, {'slot': 2, 'type': {'name': 'dark', 'url': 'https://pokeapi.co/api/v2/type/17/'}}], 'weight': 2020, 'height': 20, 'sprite': 'https://raw.githubusercontent.com/PokeAPI/sprites/master/sprites/pokemon/248.png'}, 'blaziken': {'abilites': ['blaze', 'speed-boost'], 'name': 'blaziken', 'types': [{'slot': 1, 'type': {'name': 'fire', 'url': 'https://pokeapi.co/api/v2/type/10/'}}, {'slot': 2, 'type': {'name': 'fighting', 'url': 'https://pokeapi.co/api/v2/type/2/'}}], 'weight': 520, 'height': 19, 'sprite': 'https://raw.githubusercontent.com/PokeAPI/sprites/master/sprites/pokemon/257.png'}, 'marowak': {'abilites': ['rock-head', 'lightning-rod', 'battle-armor'], 'name': 'marowak', 'types': [{'slot': 1, 'type': {'name': 'ground', 'url': 'https://pokeapi.co/api/v2/type/5/'}}], 'weight': 450, 'height': 10, 'sprite': 'https://raw.githubusercontent.com/PokeAPI/sprites/master/sprites/pokemon/105.png'}, 'dragonair': {'abilites': ['shed-skin', 'marvel-scale'], 'name': 'dragonair', 'types': [{'slot': 1, 'type': {'name': 'dragon', 'url': 'https://pokeapi.co/api/v2/type/16/'}}], 'weight': 165, 'height': 40, 'sprite': 'https://raw.githubusercontent.com/PokeAPI/sprites/master/sprites/pokemon/148.png'}}\n"
     ]
    }
   ],
   "source": [
    "from random import randint\n",
    "# Random number generated for each pokemon id\n",
    "random_team = [randint(1,898) for i in range(6)]\n",
    "\n",
    "your_team = ['electabuzz', 'haunter','tyranitar','blaziken','marowak','dragonair']\n",
    "\n",
    "def team_info(team):\n",
    "    info = {}\n",
    "    for poke in team:\n",
    "        info[poke] = poke_api_call(poke)\n",
    "    return info\n",
    "        \n",
    "print(team_info(your_team))\n",
    "\n",
    "# print(list(map(lambda x: {x: poke_api_call(x)}, your_team)))"
   ]
  },
  {
   "cell_type": "code",
   "execution_count": 24,
   "metadata": {},
   "outputs": [
    {
     "name": "stdout",
     "output_type": "stream",
     "text": [
      "{'naganadel': {'abilites': ['beast-boost'], 'name': 'naganadel', 'types': [{'slot': 1, 'type': {'name': 'poison', 'url': 'https://pokeapi.co/api/v2/type/4/'}}, {'slot': 2, 'type': {'name': 'dragon', 'url': 'https://pokeapi.co/api/v2/type/16/'}}], 'weight': 1500, 'height': 36, 'sprite': 'https://raw.githubusercontent.com/PokeAPI/sprites/master/sprites/pokemon/804.png'}, 'torchic': {'abilites': ['blaze', 'speed-boost'], 'name': 'torchic', 'types': [{'slot': 1, 'type': {'name': 'fire', 'url': 'https://pokeapi.co/api/v2/type/10/'}}], 'weight': 25, 'height': 4, 'sprite': 'https://raw.githubusercontent.com/PokeAPI/sprites/master/sprites/pokemon/255.png'}, 'avalugg': {'abilites': ['own-tempo', 'ice-body', 'sturdy'], 'name': 'avalugg', 'types': [{'slot': 1, 'type': {'name': 'ice', 'url': 'https://pokeapi.co/api/v2/type/15/'}}], 'weight': 5050, 'height': 20, 'sprite': 'https://raw.githubusercontent.com/PokeAPI/sprites/master/sprites/pokemon/713.png'}, 'eternatus': {'abilites': ['pressure'], 'name': 'eternatus', 'types': [{'slot': 1, 'type': {'name': 'poison', 'url': 'https://pokeapi.co/api/v2/type/4/'}}, {'slot': 2, 'type': {'name': 'dragon', 'url': 'https://pokeapi.co/api/v2/type/16/'}}], 'weight': 9500, 'height': 200, 'sprite': 'https://raw.githubusercontent.com/PokeAPI/sprites/master/sprites/pokemon/890.png'}, 'rolycoly': {'abilites': ['steam-engine', 'heatproof', 'flash-fire'], 'name': 'rolycoly', 'types': [{'slot': 1, 'type': {'name': 'rock', 'url': 'https://pokeapi.co/api/v2/type/6/'}}], 'weight': 120, 'height': 3, 'sprite': 'https://raw.githubusercontent.com/PokeAPI/sprites/master/sprites/pokemon/837.png'}, 'girafarig': {'abilites': ['inner-focus', 'early-bird', 'sap-sipper'], 'name': 'girafarig', 'types': [{'slot': 1, 'type': {'name': 'normal', 'url': 'https://pokeapi.co/api/v2/type/1/'}}, {'slot': 2, 'type': {'name': 'psychic', 'url': 'https://pokeapi.co/api/v2/type/14/'}}], 'weight': 415, 'height': 15, 'sprite': 'https://raw.githubusercontent.com/PokeAPI/sprites/master/sprites/pokemon/203.png'}}\n"
     ]
    }
   ],
   "source": [
    "from random import randint\n",
    "# Random number generated for each pokemon id\n",
    "random_team = [randint(1,898) for i in range(6)]\n",
    "\n",
    "def team_info(team):\n",
    "    info = {}\n",
    "    for poke in team:\n",
    "        info[poke_api_call(poke)['name']] = poke_api_call(poke)\n",
    "    return info\n",
    "        \n",
    "print(team_info(random_team))"
   ]
  },
  {
   "cell_type": "markdown",
   "metadata": {},
   "source": [
    "#### Use your function to create a dictionary of your Johto League 6  (favorite 6 pokemon)"
   ]
  },
  {
   "cell_type": "code",
   "execution_count": 33,
   "metadata": {},
   "outputs": [
    {
     "name": "stdout",
     "output_type": "stream",
     "text": [
      "{'tyranitar': {'abilites': ['sand-stream', 'unnerve'], 'name': 'tyranitar', 'types': [{'slot': 1, 'type': {'name': 'rock', 'url': 'https://pokeapi.co/api/v2/type/6/'}}, {'slot': 2, 'type': {'name': 'dark', 'url': 'https://pokeapi.co/api/v2/type/17/'}}], 'weight': 2020, 'height': 20, 'sprite': 'https://raw.githubusercontent.com/PokeAPI/sprites/master/sprites/pokemon/248.png'}, 'feraligatr': {'abilites': ['torrent', 'sheer-force'], 'name': 'feraligatr', 'types': [{'slot': 1, 'type': {'name': 'water', 'url': 'https://pokeapi.co/api/v2/type/11/'}}], 'weight': 888, 'height': 23, 'sprite': 'https://raw.githubusercontent.com/PokeAPI/sprites/master/sprites/pokemon/160.png'}, 'gengar': {'abilites': ['cursed-body'], 'name': 'gengar', 'types': [{'slot': 1, 'type': {'name': 'ghost', 'url': 'https://pokeapi.co/api/v2/type/8/'}}, {'slot': 2, 'type': {'name': 'poison', 'url': 'https://pokeapi.co/api/v2/type/4/'}}], 'weight': 405, 'height': 15, 'sprite': 'https://raw.githubusercontent.com/PokeAPI/sprites/master/sprites/pokemon/94.png'}, 'slowking': {'abilites': ['oblivious', 'own-tempo', 'regenerator'], 'name': 'slowking', 'types': [{'slot': 1, 'type': {'name': 'water', 'url': 'https://pokeapi.co/api/v2/type/11/'}}, {'slot': 2, 'type': {'name': 'psychic', 'url': 'https://pokeapi.co/api/v2/type/14/'}}], 'weight': 795, 'height': 20, 'sprite': 'https://raw.githubusercontent.com/PokeAPI/sprites/master/sprites/pokemon/199.png'}, 'scizor': {'abilites': ['swarm', 'technician', 'light-metal'], 'name': 'scizor', 'types': [{'slot': 1, 'type': {'name': 'bug', 'url': 'https://pokeapi.co/api/v2/type/7/'}}, {'slot': 2, 'type': {'name': 'steel', 'url': 'https://pokeapi.co/api/v2/type/9/'}}], 'weight': 1180, 'height': 18, 'sprite': 'https://raw.githubusercontent.com/PokeAPI/sprites/master/sprites/pokemon/212.png'}, 'snorlax': {'abilites': ['immunity', 'thick-fat', 'gluttony'], 'name': 'snorlax', 'types': [{'slot': 1, 'type': {'name': 'normal', 'url': 'https://pokeapi.co/api/v2/type/1/'}}], 'weight': 4600, 'height': 21, 'sprite': 'https://raw.githubusercontent.com/PokeAPI/sprites/master/sprites/pokemon/143.png'}}\n"
     ]
    }
   ],
   "source": [
    "# Place all 6 of your pokemon on the object below, each pokemon should have at least as much info as Pikachu did.\n",
    "my_six_pokemon = {'snorlax', 'gengar', 'tyranitar', 'feraligatr', 'slowking', 'scizor'}\n",
    "\n",
    "print(team_info(my_six_pokemon))"
   ]
  },
  {
   "cell_type": "markdown",
   "metadata": {},
   "source": [
    "## Lets create a class called 'Pokemon' and create our pokemon as instances"
   ]
  },
  {
   "cell_type": "code",
   "execution_count": 77,
   "metadata": {},
   "outputs": [],
   "source": [
    "class Pokemon():\n",
    "    def __init__(self, name):\n",
    "        self.name = name\n",
    "        self.types = []\n",
    "        self.abilities = []\n",
    "        self.weight = None\n",
    "        self.height = None\n",
    "        self.sprite = None\n",
    "        self.poke_api_call()\n",
    "    \n",
    "    def poke_api_call(self):\n",
    "        response = requests.get(f'https://pokeapi.co/api/v2/pokemon/{self.name}')\n",
    "        \n",
    "        if response.status_code == 200:\n",
    "            data = response.json()\n",
    "        else:\n",
    "            return 'Error'\n",
    "\n",
    "        ability_names = [ability['ability']['name'] for ability in data['abilities']]\n",
    "        \n",
    "        self.types = data['types']\n",
    "        self.abilites = ability_names\n",
    "        self.weight = data['weight']\n",
    "        self.height = data['height']\n",
    "        self.sprite = data['sprites']['front_default']\n",
    "        \n",
    "    def __str__(self):\n",
    "        return(f'{self.name.title()}\\nTypes: {self.types}\\nAbilities: {self.abilities}\\nWeight: {self.weight}\\nHeight: {self.height}\\nSprite: {self.sprite}')"
   ]
  },
  {
   "cell_type": "code",
   "execution_count": 45,
   "metadata": {},
   "outputs": [],
   "source": [
    "my_snorlax = Pokemon('snorlax')"
   ]
  },
  {
   "cell_type": "code",
   "execution_count": 46,
   "metadata": {},
   "outputs": [
    {
     "name": "stdout",
     "output_type": "stream",
     "text": [
      "4600\n"
     ]
    }
   ],
   "source": [
    "print(my_snorlax.weight)"
   ]
  },
  {
   "cell_type": "code",
   "execution_count": null,
   "metadata": {},
   "outputs": [],
   "source": [
    "class Pokemon():\n",
    "    pass"
   ]
  },
  {
   "cell_type": "markdown",
   "metadata": {},
   "source": [
    "### Let's Catch some Pokemon"
   ]
  },
  {
   "cell_type": "code",
   "execution_count": null,
   "metadata": {},
   "outputs": [],
   "source": []
  },
  {
   "cell_type": "code",
   "execution_count": 89,
   "metadata": {},
   "outputs": [],
   "source": [
    "class Pokedex:\n",
    "    def __init__(self, player_name):\n",
    "        self.player_name = player_name\n",
    "        self.pokemon = {}\n",
    "        \n",
    "    def add_pokemon(self, name):\n",
    "        self.pokemon[name] = Pokemon(name)\n",
    "        print(f\"{name.title()} was added to {self.player_name.title()}'s Pokedex.\")\n",
    "\n",
    "# Add a pokemon lookup method to lookup a pokemon and display it's information (In a user friendly way)\n",
    "\n",
    "    def lookup(self, name):\n",
    "        if name in self.pokemon:\n",
    "            print(self.pokemon[name])\n",
    "        else:\n",
    "            print(f'{name.title()} not currently in Pokedex.')"
   ]
  },
  {
   "cell_type": "code",
   "execution_count": 90,
   "metadata": {},
   "outputs": [],
   "source": [
    "dylans_pokedex = Pokedex('dylan')"
   ]
  },
  {
   "cell_type": "code",
   "execution_count": 91,
   "metadata": {},
   "outputs": [
    {
     "name": "stdout",
     "output_type": "stream",
     "text": [
      "Ho-Oh was added to Dylan's Pokedex.\n"
     ]
    }
   ],
   "source": [
    "dylans_pokedex.add_pokemon('ho-oh')"
   ]
  },
  {
   "cell_type": "code",
   "execution_count": 92,
   "metadata": {},
   "outputs": [
    {
     "data": {
      "text/plain": [
       "{'ho-oh': <__main__.Pokemon at 0x1c4751b0490>}"
      ]
     },
     "execution_count": 92,
     "metadata": {},
     "output_type": "execute_result"
    }
   ],
   "source": [
    "dylans_pokedex.pokemon"
   ]
  },
  {
   "cell_type": "code",
   "execution_count": 93,
   "metadata": {},
   "outputs": [
    {
     "name": "stdout",
     "output_type": "stream",
     "text": [
      "Snorlax not currently in Pokedex.\n"
     ]
    }
   ],
   "source": [
    "dylans_pokedex.lookup('snorlax')"
   ]
  },
  {
   "cell_type": "markdown",
   "metadata": {},
   "source": [
    "## Exercise 1:"
   ]
  },
  {
   "cell_type": "markdown",
   "metadata": {},
   "source": [
    "### Create a Method prints an image of your pokemon\n",
    "\n",
    "<p>HINT: You may need another attribute as well to store your image url within. </p>"
   ]
  },
  {
   "cell_type": "code",
   "execution_count": 1,
   "metadata": {},
   "outputs": [],
   "source": [
    "# Display an image in Jupyter notebook\n",
    "from IPython.display import Image\n",
    "\n",
    "# display(Image('https://i.redd.it/45n4mhusa8l41.jpg', width = 300))\n",
    "\n",
    "import requests\n"
   ]
  },
  {
   "cell_type": "code",
   "execution_count": 5,
   "metadata": {},
   "outputs": [],
   "source": [
    "# recreate your pokemon class here\n",
    "class Pokemon():\n",
    "    def __init__(self, name):\n",
    "        self.name = name\n",
    "        self.types = []\n",
    "        self.abilities = []\n",
    "        self.weight = None\n",
    "        self.height = None\n",
    "        self.sprite = None\n",
    "        self.poke_api_call()\n",
    "    \n",
    "    def poke_api_call(self):\n",
    "        response = requests.get(f'https://pokeapi.co/api/v2/pokemon/{self.name}')\n",
    "        \n",
    "        if response.status_code == 200:\n",
    "            data = response.json()\n",
    "        else:\n",
    "            return 'Error'\n",
    "\n",
    "        ability_names = [ability['ability']['name'] for ability in data['abilities']]\n",
    "        \n",
    "        self.types = data['types']\n",
    "        self.abilites = ability_names\n",
    "        self.weight = data['weight']\n",
    "        self.height = data['height']\n",
    "        self.sprite = data['sprites']['front_default']\n",
    "        \n",
    "    def print_sprite(self):\n",
    "        display(Image(self.sprite, width = 150))\n",
    "\n",
    "    def __str__(self):\n",
    "        return(f'{self.name.title()}\\nTypes: {self.types}\\nAbilities: {self.abilities}\\nWeight: {self.weight}\\nHeight: {self.height}\\nSprite: {self.sprite}')"
   ]
  },
  {
   "cell_type": "code",
   "execution_count": 6,
   "metadata": {},
   "outputs": [],
   "source": [
    "my_snorlax = Pokemon('snorlax')"
   ]
  },
  {
   "cell_type": "code",
   "execution_count": 7,
   "metadata": {},
   "outputs": [
    {
     "data": {
      "image/png": "[encoded data removed]",
      "text/plain": [
       "<IPython.core.display.Image object>"
      ]
     },
     "metadata": {
      "image/png": {
       "width": 150
      }
     },
     "output_type": "display_data"
    }
   ],
   "source": [
    "# Calling our new method\n",
    "my_snorlax.print_sprite()"
   ]
  },
  {
   "cell_type": "markdown",
   "metadata": {},
   "source": [
    "## Exercise 2:"
   ]
  },
  {
   "cell_type": "markdown",
   "metadata": {},
   "source": [
    "### Create a Method that evolves your Pokemon\n",
    "If your pokemon can't evolve any further print a message that says \"\\<name of pokemon> can't evolve.\""
   ]
  },
  {
   "cell_type": "code",
   "execution_count": 61,
   "metadata": {},
   "outputs": [],
   "source": [
    "# pokemon[species]['url']      -requests.get->     pokemon-species[evolution-chain]['url']      -requests.get->     evolution-chain\n",
    "\n",
    "# chain = {\n",
    "#     #                                            empty        charizard         charmeleon          \n",
    "#     evolves_to: {0: {evolves_to: {0: {evolves_to: {}, species: {name}}}, species: {name}}},\n",
    "#     #       charmander\n",
    "#     species: {name}\n",
    "# }\n",
    "\n",
    "# chain = {\n",
    "#     #                           empty         snorlax          \n",
    "#     evolves_to: {0: {evolves_to: {}, species: {name}}},\n",
    "#     #       munchlax\n",
    "#     species: {name}\n",
    "# }\n",
    "\n",
    "# chain = {\n",
    "#     #          empty     \n",
    "#     evolves_to: {},\n",
    "#     #         lugia\n",
    "#     species: {name}\n",
    "# }\n",
    "\n",
    "class Pokemon():\n",
    "    def __init__(self, name):\n",
    "        self.name = name\n",
    "        self.types = []\n",
    "        self.abilities = []\n",
    "        self.weight = None\n",
    "        self.height = None\n",
    "        self.sprite = None\n",
    "        self.poke_api_call()\n",
    "    \n",
    "    def poke_api_call(self, evolved_poke=None):\n",
    "        if not evolved_poke:\n",
    "            response1 = requests.get(f'https://pokeapi.co/api/v2/pokemon/{self.name}')\n",
    "        else:\n",
    "            response1 = requests.get(f'https://pokeapi.co/api/v2/pokemon/{self.evolved_poke}')\n",
    "\n",
    "        if response1.status_code == 200:\n",
    "            data1 = response1.json()\n",
    "        else:\n",
    "            return 'Error'\n",
    "\n",
    "        ability_names = [ability['ability']['name'] for ability in data1['abilities']]\n",
    "        \n",
    "        self.types = data1['types']\n",
    "        self.abilites = ability_names\n",
    "        self.species_name = data1['species']['name']\n",
    "        self.species = data1['species']['url']\n",
    "        self.evolved_poke = evolved_poke\n",
    "        self.weight = data1['weight']\n",
    "        self.height = data1['height']\n",
    "        self.sprite = data1['sprites']['front_default']\n",
    "        # ======================================================================\n",
    "        response2 = requests.get(f'{self.species}')\n",
    "        \n",
    "        if response2.status_code == 200:\n",
    "            data2 = response2.json()\n",
    "        else:\n",
    "            return 'Error'\n",
    "\n",
    "        self.species_info = data2['evolution_chain']['url']\n",
    "        # ======================================================================\n",
    "        response3 = requests.get(f'{self.species_info}')\n",
    "        \n",
    "        if response3.status_code == 200:\n",
    "            data3 = response3.json()\n",
    "        else:\n",
    "            return 'Error'\n",
    "\n",
    "        self.evo_chain = data3['chain']\n",
    "\n",
    "        if self.evo_chain['species']['name'] == self.species_name:\n",
    "            self.evo_chain_level = 1\n",
    "            if self.evo_chain['evolves_to']:\n",
    "                self.evolved_poke = self.evo_chain['evolves_to'][0]['species']['name']\n",
    "        elif self.evo_chain['evolves_to'][0]['species']['name'] == self.species_name:\n",
    "            self.evo_chain_level = 2\n",
    "            if self.evo_chain['evolves_to'][0]['evolves_to']:\n",
    "                self.evolved_poke = self.evo_chain['evolves_to'][0]['evolves_to'][0]['species']['name']\n",
    "        elif self.evo_chain['evolves_to'][0]['evolves_to'][0]['species']['name'] == self.species_name:\n",
    "            self.evo_chain_level = 3\n",
    "        \n",
    "    def evolve(self):\n",
    "        if self.evo_chain_level == 1:\n",
    "            if not self.evo_chain['evolves_to']:\n",
    "                print(f\"Your {self.species_name.title()} can't evolve any further.\")\n",
    "            else:\n",
    "                print(f'Congratulations! Your {self.species_name.title()} evolved into {self.evolved_poke.title()}!')\n",
    "                self.poke_api_call(self.evolved_poke)\n",
    "\n",
    "        elif self.evo_chain_level == 2:\n",
    "            if not self.evo_chain['evolves_to'][0]['evolves_to']:\n",
    "                print(f\"Your {self.species_name.title()} can't evolve any further.\")\n",
    "            else:\n",
    "                print(f'Congratulations! Your {self.species_name.title()} evolved into {self.evolved_poke.title()}!')\n",
    "                self.poke_api_call(self.evolved_poke)\n",
    "        elif self.evo_chain_level == 3:\n",
    "            print(f\"Your {self.species_name.title()} can't evolve any further.\")\n",
    "\n",
    "    def print_sprite(self):\n",
    "        display(Image(self.sprite, width = 150))\n",
    "\n",
    "    def __str__(self):\n",
    "        return(f'{self.name.title()}\\nTypes: {self.types}\\nAbilities: {self.abilities}\\nWeight: {self.weight}\\nHeight: {self.height}\\nSprite: {self.sprite}')"
   ]
  },
  {
   "cell_type": "code",
   "execution_count": 62,
   "metadata": {},
   "outputs": [],
   "source": [
    "bubby = Pokemon('snorlax')\n",
    "bubby_jr = Pokemon('munchlax')\n",
    "zuko = Pokemon('charmander')"
   ]
  },
  {
   "cell_type": "markdown",
   "metadata": {},
   "source": [
    "Now let's evolve a few"
   ]
  },
  {
   "cell_type": "code",
   "execution_count": 63,
   "metadata": {
    "scrolled": true
   },
   "outputs": [
    {
     "name": "stdout",
     "output_type": "stream",
     "text": [
      "snorlax\n",
      "Your Snorlax can't evolve any further.\n",
      "snorlax\n"
     ]
    }
   ],
   "source": [
    "print(bubby.species_name)\n",
    "bubby.evolve()\n",
    "print(bubby.species_name)"
   ]
  },
  {
   "cell_type": "code",
   "execution_count": 64,
   "metadata": {},
   "outputs": [
    {
     "name": "stdout",
     "output_type": "stream",
     "text": [
      "munchlax\n",
      "Congratulations! Your Munchlax evolved into Snorlax!\n",
      "snorlax\n"
     ]
    }
   ],
   "source": [
    "print(bubby_jr.species_name)\n",
    "bubby_jr.evolve()\n",
    "print(bubby_jr.species_name)"
   ]
  },
  {
   "cell_type": "code",
   "execution_count": 65,
   "metadata": {},
   "outputs": [
    {
     "name": "stdout",
     "output_type": "stream",
     "text": [
      "charmander\n",
      "Congratulations! Your Charmander evolved into Charmeleon!\n",
      "charmeleon\n"
     ]
    }
   ],
   "source": [
    "print(zuko.species_name)\n",
    "zuko.evolve()\n",
    "print(zuko.species_name)"
   ]
  },
  {
   "cell_type": "code",
   "execution_count": 66,
   "metadata": {},
   "outputs": [
    {
     "name": "stdout",
     "output_type": "stream",
     "text": [
      "charmeleon\n",
      "Congratulations! Your Charmeleon evolved into Charizard!\n",
      "charizard\n"
     ]
    }
   ],
   "source": [
    "print(zuko.species_name)\n",
    "zuko.evolve()\n",
    "print(zuko.species_name)"
   ]
  },
  {
   "cell_type": "code",
   "execution_count": 67,
   "metadata": {},
   "outputs": [
    {
     "name": "stdout",
     "output_type": "stream",
     "text": [
      "charizard\n",
      "Your Charizard can't evolve any further.\n",
      "charizard\n"
     ]
    }
   ],
   "source": [
    "print(zuko.species_name)\n",
    "zuko.evolve()\n",
    "print(zuko.species_name)"
   ]
  },
  {
   "cell_type": "markdown",
   "metadata": {},
   "source": [
    "#  Final Exercise (OPTIONAL): <br> <br>Create a Move_Tutor Class that will allow the Pokemon Class to inherit a move list.\n",
    "<br>\n",
    "<p>for an added bonus you can make sure that if a pokemon has 4 moves the user can choose one of them to replace with a new move. </p>"
   ]
  },
  {
   "cell_type": "code",
   "execution_count": 19,
   "metadata": {},
   "outputs": [],
   "source": [
    "class Move_Tutor:\n",
    "    def __init__(self):\n",
    "        self.move_list = []"
   ]
  },
  {
   "cell_type": "code",
   "execution_count": null,
   "metadata": {},
   "outputs": [],
   "source": []
  },
  {
   "cell_type": "code",
   "execution_count": 81,
   "metadata": {},
   "outputs": [
    {
     "name": "stdout",
     "output_type": "stream",
     "text": [
      "What move would you like to teach pikachu? spark\n",
      "pikachu learned spark!\n"
     ]
    }
   ],
   "source": [
    "pikachu.teach_move()\n"
   ]
  },
  {
   "cell_type": "code",
   "execution_count": 79,
   "metadata": {},
   "outputs": [
    {
     "name": "stdout",
     "output_type": "stream",
     "text": [
      "pikachu's moves'\n",
      "thunder\n",
      "surf\n",
      "earthquake\n"
     ]
    }
   ],
   "source": [
    "pikachu.show_moves()"
   ]
  }
 ],
 "metadata": {
  "kernelspec": {
   "display_name": "Python 3.9.12 ('base')",
   "language": "python",
   "name": "python3"
  },
  "language_info": {
   "codemirror_mode": {
    "name": "ipython",
    "version": 3
   },
   "file_extension": ".py",
   "mimetype": "text/x-python",
   "name": "python",
   "nbconvert_exporter": "python",
   "pygments_lexer": "ipython3",
   "version": "3.9.12"
  },
  "vscode": {
   "interpreter": {
    "hash": "ad2bdc8ecc057115af97d19610ffacc2b4e99fae6737bb82f5d7fb13d2f2c186"
   }
  }
 },
 "nbformat": 4,
 "nbformat_minor": 4
}
